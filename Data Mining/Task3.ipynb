{
 "cells": [
  {
   "cell_type": "code",
   "execution_count": 1,
   "metadata": {},
   "outputs": [
    {
     "name": "stderr",
     "output_type": "stream",
     "text": [
      "/usr/lib/python3/dist-packages/scipy/__init__.py:146: UserWarning: A NumPy version >=1.17.3 and <1.25.0 is required for this version of SciPy (detected version 1.26.4\n",
      "  warnings.warn(f\"A NumPy version >={np_minversion} and <{np_maxversion}\"\n"
     ]
    }
   ],
   "source": [
    "import numpy as np\n",
    "import pandas as pd\n",
    "from mlxtend.frequent_patterns import apriori, association_rules\n",
    "import pyfpgrowth\n",
    "from mlxtend.preprocessing import TransactionEncoder"
   ]
  },
  {
   "cell_type": "code",
   "execution_count": 2,
   "metadata": {},
   "outputs": [],
   "source": [
    "df = pd.read_excel('./Datasets/Online Retail.xlsx', engine='openpyxl')"
   ]
  },
  {
   "cell_type": "code",
   "execution_count": 3,
   "metadata": {},
   "outputs": [
    {
     "name": "stdout",
     "output_type": "stream",
     "text": [
      "<class 'pandas.core.frame.DataFrame'>\n",
      "RangeIndex: 541909 entries, 0 to 541908\n",
      "Data columns (total 8 columns):\n",
      " #   Column       Non-Null Count   Dtype         \n",
      "---  ------       --------------   -----         \n",
      " 0   InvoiceNo    541909 non-null  object        \n",
      " 1   StockCode    541909 non-null  object        \n",
      " 2   Description  540455 non-null  object        \n",
      " 3   Quantity     541909 non-null  int64         \n",
      " 4   InvoiceDate  541909 non-null  datetime64[ns]\n",
      " 5   UnitPrice    541909 non-null  float64       \n",
      " 6   CustomerID   406829 non-null  float64       \n",
      " 7   Country      541909 non-null  object        \n",
      "dtypes: datetime64[ns](1), float64(2), int64(1), object(4)\n",
      "memory usage: 33.1+ MB\n"
     ]
    }
   ],
   "source": [
    "df.info()"
   ]
  },
  {
   "cell_type": "code",
   "execution_count": 4,
   "metadata": {},
   "outputs": [
    {
     "data": {
      "text/plain": [
       "InvoiceNo           0\n",
       "StockCode           0\n",
       "Description      1454\n",
       "Quantity            0\n",
       "InvoiceDate         0\n",
       "UnitPrice           0\n",
       "CustomerID     135080\n",
       "Country             0\n",
       "dtype: int64"
      ]
     },
     "execution_count": 4,
     "metadata": {},
     "output_type": "execute_result"
    }
   ],
   "source": [
    "df.isnull().sum()"
   ]
  },
  {
   "cell_type": "code",
   "execution_count": 5,
   "metadata": {},
   "outputs": [
    {
     "data": {
      "text/html": [
       "<div>\n",
       "<style scoped>\n",
       "    .dataframe tbody tr th:only-of-type {\n",
       "        vertical-align: middle;\n",
       "    }\n",
       "\n",
       "    .dataframe tbody tr th {\n",
       "        vertical-align: top;\n",
       "    }\n",
       "\n",
       "    .dataframe thead th {\n",
       "        text-align: right;\n",
       "    }\n",
       "</style>\n",
       "<table border=\"1\" class=\"dataframe\">\n",
       "  <thead>\n",
       "    <tr style=\"text-align: right;\">\n",
       "      <th></th>\n",
       "      <th>InvoiceNo</th>\n",
       "      <th>StockCode</th>\n",
       "      <th>Description</th>\n",
       "      <th>Quantity</th>\n",
       "      <th>InvoiceDate</th>\n",
       "      <th>UnitPrice</th>\n",
       "      <th>CustomerID</th>\n",
       "      <th>Country</th>\n",
       "    </tr>\n",
       "  </thead>\n",
       "  <tbody>\n",
       "    <tr>\n",
       "      <th>0</th>\n",
       "      <td>536365</td>\n",
       "      <td>85123A</td>\n",
       "      <td>WHITE HANGING HEART T-LIGHT HOLDER</td>\n",
       "      <td>6</td>\n",
       "      <td>2010-12-01 08:26:00</td>\n",
       "      <td>2.55</td>\n",
       "      <td>17850.0</td>\n",
       "      <td>United Kingdom</td>\n",
       "    </tr>\n",
       "    <tr>\n",
       "      <th>1</th>\n",
       "      <td>536365</td>\n",
       "      <td>71053</td>\n",
       "      <td>WHITE METAL LANTERN</td>\n",
       "      <td>6</td>\n",
       "      <td>2010-12-01 08:26:00</td>\n",
       "      <td>3.39</td>\n",
       "      <td>17850.0</td>\n",
       "      <td>United Kingdom</td>\n",
       "    </tr>\n",
       "    <tr>\n",
       "      <th>2</th>\n",
       "      <td>536365</td>\n",
       "      <td>84406B</td>\n",
       "      <td>CREAM CUPID HEARTS COAT HANGER</td>\n",
       "      <td>8</td>\n",
       "      <td>2010-12-01 08:26:00</td>\n",
       "      <td>2.75</td>\n",
       "      <td>17850.0</td>\n",
       "      <td>United Kingdom</td>\n",
       "    </tr>\n",
       "    <tr>\n",
       "      <th>3</th>\n",
       "      <td>536365</td>\n",
       "      <td>84029G</td>\n",
       "      <td>KNITTED UNION FLAG HOT WATER BOTTLE</td>\n",
       "      <td>6</td>\n",
       "      <td>2010-12-01 08:26:00</td>\n",
       "      <td>3.39</td>\n",
       "      <td>17850.0</td>\n",
       "      <td>United Kingdom</td>\n",
       "    </tr>\n",
       "    <tr>\n",
       "      <th>4</th>\n",
       "      <td>536365</td>\n",
       "      <td>84029E</td>\n",
       "      <td>RED WOOLLY HOTTIE WHITE HEART.</td>\n",
       "      <td>6</td>\n",
       "      <td>2010-12-01 08:26:00</td>\n",
       "      <td>3.39</td>\n",
       "      <td>17850.0</td>\n",
       "      <td>United Kingdom</td>\n",
       "    </tr>\n",
       "  </tbody>\n",
       "</table>\n",
       "</div>"
      ],
      "text/plain": [
       "  InvoiceNo StockCode                          Description  Quantity  \\\n",
       "0    536365    85123A   WHITE HANGING HEART T-LIGHT HOLDER         6   \n",
       "1    536365     71053                  WHITE METAL LANTERN         6   \n",
       "2    536365    84406B       CREAM CUPID HEARTS COAT HANGER         8   \n",
       "3    536365    84029G  KNITTED UNION FLAG HOT WATER BOTTLE         6   \n",
       "4    536365    84029E       RED WOOLLY HOTTIE WHITE HEART.         6   \n",
       "\n",
       "          InvoiceDate  UnitPrice  CustomerID         Country  \n",
       "0 2010-12-01 08:26:00       2.55     17850.0  United Kingdom  \n",
       "1 2010-12-01 08:26:00       3.39     17850.0  United Kingdom  \n",
       "2 2010-12-01 08:26:00       2.75     17850.0  United Kingdom  \n",
       "3 2010-12-01 08:26:00       3.39     17850.0  United Kingdom  \n",
       "4 2010-12-01 08:26:00       3.39     17850.0  United Kingdom  "
      ]
     },
     "execution_count": 5,
     "metadata": {},
     "output_type": "execute_result"
    }
   ],
   "source": [
    "df.head()"
   ]
  },
  {
   "cell_type": "code",
   "execution_count": 6,
   "metadata": {},
   "outputs": [
    {
     "data": {
      "text/html": [
       "<div>\n",
       "<style scoped>\n",
       "    .dataframe tbody tr th:only-of-type {\n",
       "        vertical-align: middle;\n",
       "    }\n",
       "\n",
       "    .dataframe tbody tr th {\n",
       "        vertical-align: top;\n",
       "    }\n",
       "\n",
       "    .dataframe thead th {\n",
       "        text-align: right;\n",
       "    }\n",
       "</style>\n",
       "<table border=\"1\" class=\"dataframe\">\n",
       "  <thead>\n",
       "    <tr style=\"text-align: right;\">\n",
       "      <th></th>\n",
       "      <th>InvoiceNo</th>\n",
       "      <th>StockCode</th>\n",
       "      <th>Description</th>\n",
       "      <th>Quantity</th>\n",
       "      <th>InvoiceDate</th>\n",
       "      <th>UnitPrice</th>\n",
       "      <th>CustomerID</th>\n",
       "      <th>Country</th>\n",
       "    </tr>\n",
       "  </thead>\n",
       "  <tbody>\n",
       "    <tr>\n",
       "      <th>541904</th>\n",
       "      <td>581587</td>\n",
       "      <td>22613</td>\n",
       "      <td>PACK OF 20 SPACEBOY NAPKINS</td>\n",
       "      <td>12</td>\n",
       "      <td>2011-12-09 12:50:00</td>\n",
       "      <td>0.85</td>\n",
       "      <td>12680.0</td>\n",
       "      <td>France</td>\n",
       "    </tr>\n",
       "    <tr>\n",
       "      <th>541905</th>\n",
       "      <td>581587</td>\n",
       "      <td>22899</td>\n",
       "      <td>CHILDREN'S APRON DOLLY GIRL</td>\n",
       "      <td>6</td>\n",
       "      <td>2011-12-09 12:50:00</td>\n",
       "      <td>2.10</td>\n",
       "      <td>12680.0</td>\n",
       "      <td>France</td>\n",
       "    </tr>\n",
       "    <tr>\n",
       "      <th>541906</th>\n",
       "      <td>581587</td>\n",
       "      <td>23254</td>\n",
       "      <td>CHILDRENS CUTLERY DOLLY GIRL</td>\n",
       "      <td>4</td>\n",
       "      <td>2011-12-09 12:50:00</td>\n",
       "      <td>4.15</td>\n",
       "      <td>12680.0</td>\n",
       "      <td>France</td>\n",
       "    </tr>\n",
       "    <tr>\n",
       "      <th>541907</th>\n",
       "      <td>581587</td>\n",
       "      <td>23255</td>\n",
       "      <td>CHILDRENS CUTLERY CIRCUS PARADE</td>\n",
       "      <td>4</td>\n",
       "      <td>2011-12-09 12:50:00</td>\n",
       "      <td>4.15</td>\n",
       "      <td>12680.0</td>\n",
       "      <td>France</td>\n",
       "    </tr>\n",
       "    <tr>\n",
       "      <th>541908</th>\n",
       "      <td>581587</td>\n",
       "      <td>22138</td>\n",
       "      <td>BAKING SET 9 PIECE RETROSPOT</td>\n",
       "      <td>3</td>\n",
       "      <td>2011-12-09 12:50:00</td>\n",
       "      <td>4.95</td>\n",
       "      <td>12680.0</td>\n",
       "      <td>France</td>\n",
       "    </tr>\n",
       "  </tbody>\n",
       "</table>\n",
       "</div>"
      ],
      "text/plain": [
       "       InvoiceNo StockCode                      Description  Quantity  \\\n",
       "541904    581587     22613      PACK OF 20 SPACEBOY NAPKINS        12   \n",
       "541905    581587     22899     CHILDREN'S APRON DOLLY GIRL          6   \n",
       "541906    581587     23254    CHILDRENS CUTLERY DOLLY GIRL          4   \n",
       "541907    581587     23255  CHILDRENS CUTLERY CIRCUS PARADE         4   \n",
       "541908    581587     22138    BAKING SET 9 PIECE RETROSPOT          3   \n",
       "\n",
       "               InvoiceDate  UnitPrice  CustomerID Country  \n",
       "541904 2011-12-09 12:50:00       0.85     12680.0  France  \n",
       "541905 2011-12-09 12:50:00       2.10     12680.0  France  \n",
       "541906 2011-12-09 12:50:00       4.15     12680.0  France  \n",
       "541907 2011-12-09 12:50:00       4.15     12680.0  France  \n",
       "541908 2011-12-09 12:50:00       4.95     12680.0  France  "
      ]
     },
     "execution_count": 6,
     "metadata": {},
     "output_type": "execute_result"
    }
   ],
   "source": [
    "df.tail()"
   ]
  },
  {
   "cell_type": "markdown",
   "metadata": {},
   "source": [
    "**We only need InvoiceNo with no cancellation and StockCode for each transaction.**"
   ]
  },
  {
   "cell_type": "code",
   "execution_count": 7,
   "metadata": {},
   "outputs": [],
   "source": [
    "# Assuming your dataframe is named df\n",
    "grouped_df = df.groupby('InvoiceNo').agg({'Description': lambda x: list(x)}).reset_index()\n",
    "\n",
    "# If you want to prefix \"T\" to each InvoiceNo\n",
    "grouped_df['InvoiceNo'] = 'T' + grouped_df['InvoiceNo'].astype(str)"
   ]
  },
  {
   "cell_type": "code",
   "execution_count": 8,
   "metadata": {},
   "outputs": [
    {
     "data": {
      "text/html": [
       "<div>\n",
       "<style scoped>\n",
       "    .dataframe tbody tr th:only-of-type {\n",
       "        vertical-align: middle;\n",
       "    }\n",
       "\n",
       "    .dataframe tbody tr th {\n",
       "        vertical-align: top;\n",
       "    }\n",
       "\n",
       "    .dataframe thead th {\n",
       "        text-align: right;\n",
       "    }\n",
       "</style>\n",
       "<table border=\"1\" class=\"dataframe\">\n",
       "  <thead>\n",
       "    <tr style=\"text-align: right;\">\n",
       "      <th></th>\n",
       "      <th>InvoiceNo</th>\n",
       "      <th>Description</th>\n",
       "    </tr>\n",
       "  </thead>\n",
       "  <tbody>\n",
       "    <tr>\n",
       "      <th>0</th>\n",
       "      <td>T536365</td>\n",
       "      <td>[WHITE HANGING HEART T-LIGHT HOLDER, WHITE MET...</td>\n",
       "    </tr>\n",
       "    <tr>\n",
       "      <th>1</th>\n",
       "      <td>T536366</td>\n",
       "      <td>[HAND WARMER UNION JACK, HAND WARMER RED POLKA...</td>\n",
       "    </tr>\n",
       "    <tr>\n",
       "      <th>2</th>\n",
       "      <td>T536367</td>\n",
       "      <td>[ASSORTED COLOUR BIRD ORNAMENT, POPPY'S PLAYHO...</td>\n",
       "    </tr>\n",
       "    <tr>\n",
       "      <th>3</th>\n",
       "      <td>T536368</td>\n",
       "      <td>[JAM MAKING SET WITH JARS, RED COAT RACK PARIS...</td>\n",
       "    </tr>\n",
       "    <tr>\n",
       "      <th>4</th>\n",
       "      <td>T536369</td>\n",
       "      <td>[BATH BUILDING BLOCK WORD]</td>\n",
       "    </tr>\n",
       "    <tr>\n",
       "      <th>...</th>\n",
       "      <td>...</td>\n",
       "      <td>...</td>\n",
       "    </tr>\n",
       "    <tr>\n",
       "      <th>25895</th>\n",
       "      <td>TC581484</td>\n",
       "      <td>[PAPER CRAFT , LITTLE BIRDIE]</td>\n",
       "    </tr>\n",
       "    <tr>\n",
       "      <th>25896</th>\n",
       "      <td>TC581490</td>\n",
       "      <td>[VICTORIAN GLASS HANGING T-LIGHT, ZINC T-LIGHT...</td>\n",
       "    </tr>\n",
       "    <tr>\n",
       "      <th>25897</th>\n",
       "      <td>TC581499</td>\n",
       "      <td>[Manual]</td>\n",
       "    </tr>\n",
       "    <tr>\n",
       "      <th>25898</th>\n",
       "      <td>TC581568</td>\n",
       "      <td>[VICTORIAN SEWING BOX LARGE]</td>\n",
       "    </tr>\n",
       "    <tr>\n",
       "      <th>25899</th>\n",
       "      <td>TC581569</td>\n",
       "      <td>[HANGING HEART JAR T-LIGHT HOLDER, 36 PENCILS ...</td>\n",
       "    </tr>\n",
       "  </tbody>\n",
       "</table>\n",
       "<p>25900 rows × 2 columns</p>\n",
       "</div>"
      ],
      "text/plain": [
       "      InvoiceNo                                        Description\n",
       "0       T536365  [WHITE HANGING HEART T-LIGHT HOLDER, WHITE MET...\n",
       "1       T536366  [HAND WARMER UNION JACK, HAND WARMER RED POLKA...\n",
       "2       T536367  [ASSORTED COLOUR BIRD ORNAMENT, POPPY'S PLAYHO...\n",
       "3       T536368  [JAM MAKING SET WITH JARS, RED COAT RACK PARIS...\n",
       "4       T536369                         [BATH BUILDING BLOCK WORD]\n",
       "...         ...                                                ...\n",
       "25895  TC581484                      [PAPER CRAFT , LITTLE BIRDIE]\n",
       "25896  TC581490  [VICTORIAN GLASS HANGING T-LIGHT, ZINC T-LIGHT...\n",
       "25897  TC581499                                           [Manual]\n",
       "25898  TC581568                       [VICTORIAN SEWING BOX LARGE]\n",
       "25899  TC581569  [HANGING HEART JAR T-LIGHT HOLDER, 36 PENCILS ...\n",
       "\n",
       "[25900 rows x 2 columns]"
      ]
     },
     "execution_count": 8,
     "metadata": {},
     "output_type": "execute_result"
    }
   ],
   "source": [
    "grouped_df"
   ]
  },
  {
   "cell_type": "code",
   "execution_count": 9,
   "metadata": {},
   "outputs": [],
   "source": [
    "# Convert all descriptions to strings\n",
    "grouped_df['Description'] = grouped_df['Description'].apply(lambda x: [str(item) for item in x])\n",
    "\n",
    "# Convert 'Description' to a list of lists\n",
    "transactions = grouped_df['Description'].tolist()\n"
   ]
  },
  {
   "cell_type": "code",
   "execution_count": 10,
   "metadata": {},
   "outputs": [
    {
     "name": "stdout",
     "output_type": "stream",
     "text": [
      "    4 PURPLE FLOCK DINNER CANDLES   50'S CHRISTMAS GIFT BAG LARGE  \\\n",
      "0                           False                           False   \n",
      "1                           False                           False   \n",
      "2                           False                           False   \n",
      "3                           False                           False   \n",
      "4                           False                           False   \n",
      "\n",
      "    DOLLY GIRL BEAKER   I LOVE LONDON MINI BACKPACK  \\\n",
      "0               False                         False   \n",
      "1               False                         False   \n",
      "2               False                         False   \n",
      "3               False                         False   \n",
      "4               False                         False   \n",
      "\n",
      "    I LOVE LONDON MINI RUCKSACK   NINE DRAWER OFFICE TIDY  \\\n",
      "0                         False                     False   \n",
      "1                         False                     False   \n",
      "2                         False                     False   \n",
      "3                         False                     False   \n",
      "4                         False                     False   \n",
      "\n",
      "    OVAL WALL MIRROR DIAMANTE    RED SPOT GIFT BAG LARGE  \\\n",
      "0                        False                     False   \n",
      "1                        False                     False   \n",
      "2                        False                     False   \n",
      "3                        False                     False   \n",
      "4                        False                     False   \n",
      "\n",
      "    SET 2 TEA TOWELS I LOVE LONDON    SPACEBOY BABY GIFT SET  ...  \\\n",
      "0                             False                    False  ...   \n",
      "1                             False                    False  ...   \n",
      "2                             False                    False  ...   \n",
      "3                             False                    False  ...   \n",
      "4                             False                    False  ...   \n",
      "\n",
      "   wrongly coded 20713  wrongly coded 23343  wrongly coded-23343  \\\n",
      "0                False                False                False   \n",
      "1                False                False                False   \n",
      "2                False                False                False   \n",
      "3                False                False                False   \n",
      "4                False                False                False   \n",
      "\n",
      "   wrongly marked  wrongly marked 23343  wrongly marked carton 22804  \\\n",
      "0           False                 False                        False   \n",
      "1           False                 False                        False   \n",
      "2           False                 False                        False   \n",
      "3           False                 False                        False   \n",
      "4           False                 False                        False   \n",
      "\n",
      "   wrongly marked. 23343 in box  wrongly sold (22719) barcode  \\\n",
      "0                         False                         False   \n",
      "1                         False                         False   \n",
      "2                         False                         False   \n",
      "3                         False                         False   \n",
      "4                         False                         False   \n",
      "\n",
      "   wrongly sold as sets  wrongly sold sets  \n",
      "0                 False              False  \n",
      "1                 False              False  \n",
      "2                 False              False  \n",
      "3                 False              False  \n",
      "4                 False              False  \n",
      "\n",
      "[5 rows x 4224 columns]\n"
     ]
    }
   ],
   "source": [
    "# Use one-hot encoding\n",
    "te = TransactionEncoder()\n",
    "te_ary = te.fit(grouped_df['Description']).transform(grouped_df['Description'])\n",
    "df_onehot = pd.DataFrame(te_ary, columns=te.columns_)\n",
    "print(df_onehot.head())"
   ]
  },
  {
   "cell_type": "code",
   "execution_count": 11,
   "metadata": {},
   "outputs": [],
   "source": [
    "# Implementing Apriori algorithm\n",
    "def run_apriori(df, min_support):\n",
    " frequent_itemsets = apriori(df, min_support=min_support,\n",
    "use_colnames=True)\n",
    " return frequent_itemsets\n",
    "# Implementing FP-Growth algorithm\n",
    "def run_fpgrowth(transactions, min_support):\n",
    " patterns = pyfpgrowth.find_frequent_patterns(transactions,\n",
    "min_support * len(transactions))\n",
    " return patterns\n",
    "# Generate association rules\n",
    "def generate_rules(frequent_itemsets, min_confidence):\n",
    " rules = association_rules(frequent_itemsets, metric=\"confidence\",\n",
    "min_threshold=min_confidence)\n",
    " return rules"
   ]
  },
  {
   "cell_type": "code",
   "execution_count": 12,
   "metadata": {},
   "outputs": [
    {
     "name": "stdout",
     "output_type": "stream",
     "text": [
      "Apriori frequent itemsets:\n",
      "      support                                           itemsets\n",
      "0    0.037104                           (6 RIBBONS RUSTIC CHARM)\n",
      "1    0.032278                      (60 TEATIME FAIRY CAKE CASES)\n",
      "2    0.038649                       (ALARM CLOCK BAKELIKE GREEN)\n",
      "3    0.030849                        (ALARM CLOCK BAKELIKE PINK)\n",
      "4    0.041737                        (ALARM CLOCK BAKELIKE RED )\n",
      "..        ...                                                ...\n",
      "114  0.030270  (ROSES REGENCY TEACUP AND SAUCER , GREEN REGEN...\n",
      "115  0.032162  (JUMBO BAG RED RETROSPOT, JUMBO BAG PINK POLKA...\n",
      "116  0.026371  (JUMBO BAG RED RETROSPOT, JUMBO SHOPPER VINTAG...\n",
      "117  0.028301  (JUMBO STORAGE BAG SUKI, JUMBO BAG RED RETROSPOT)\n",
      "118  0.025019  (LUNCH BAG  BLACK SKULL., LUNCH BAG RED RETROS...\n",
      "\n",
      "[119 rows x 2 columns]\n",
      "Apriori association rules:\n",
      "                          antecedents                         consequents  \\\n",
      "0  (ROSES REGENCY TEACUP AND SAUCER )   (GREEN REGENCY TEACUP AND SAUCER)   \n",
      "1   (GREEN REGENCY TEACUP AND SAUCER)  (ROSES REGENCY TEACUP AND SAUCER )   \n",
      "\n",
      "   confidence  \n",
      "0    0.700000  \n",
      "1    0.741722  \n"
     ]
    }
   ],
   "source": [
    "# Example usage\n",
    "min_support = 0.025\n",
    "min_confidence = 0.7\n",
    "# Using Apriori\n",
    "frequent_itemsets_apriori = run_apriori(df_onehot, min_support)\n",
    "rules_apriori = generate_rules(frequent_itemsets_apriori,min_confidence)\n",
    "# Print results or perform further analysis\n",
    "print(\"Apriori frequent itemsets:\")\n",
    "print(frequent_itemsets_apriori)\n",
    "print(\"Apriori association rules:\")\n",
    "print(rules_apriori[['antecedents', 'consequents', 'confidence']])"
   ]
  },
  {
   "cell_type": "code",
   "execution_count": 13,
   "metadata": {},
   "outputs": [
    {
     "name": "stdout",
     "output_type": "stream",
     "text": [
      "FP-Growth frequent itemsets:\n",
      "\n",
      "{('72 SWEETHEART FAIRY CAKE CASES',): 650, ('60 CAKE CASES VINTAGE CHRISTMAS',): 652, ('HOMEMADE JAM SCENTED CANDLES',): 655, ('RETROSPOT HEART HOT WATER BOTTLE',): 655, ('LOVE BUILDING BLOCK WORD',): 656, ('HOT WATER BOTTLE TEA AND SYMPATHY',): 656, ('SMALL WHITE HEART OF WICKER',): 657, ('SET OF 60 PANTRY DESIGN CAKE CASES ',): 659, ('JUMBO BAG OWLS',): 673, ('JUMBO BAG SCANDINAVIAN BLUE PAISLEY',): 675, ('RED  HARMONICA IN BOX ',): 676, ('PACK OF 72 SKULL CAKE CASES',): 678, ('CHILLI LIGHTS',): 679, ('HOT WATER BOTTLE I AM SO POORLY',): 679, ('HAND OVER THE CHOCOLATE   SIGN ',): 686, ('HAND WARMER OWL DESIGN',): 687, ('GINGERBREAD MAN COOKIE CUTTER',): 691, ('LUNCH BAG VINTAGE LEAF DESIGN',): 692, ('PLASTERS IN TIN SPACEBOY',): 697, ('WOOD BLACK BOARD ANT WHITE FINISH',): 698, ('SET OF 3 HEART COOKIE CUTTERS',): 700, ('JUMBO BAG SPACEBOY DESIGN',): 702, ('LUNCH BAG DOLLY GIRL DESIGN',): 706, ('SET OF 3 BUTTERFLY COOKIE CUTTERS',): 707, ('DOORMAT RED RETROSPOT',): 707, ('PACK OF 20 NAPKINS PANTRY DESIGN',): 709, ('DOTCOM POSTAGE',): 709, ('ANTIQUE SILVER T-LIGHT GLASS',): 719, ('JUMBO STORAGE BAG SKULLS',): 720, ('GUMBALL COAT RACK',): 728, ('PLASTERS IN TIN WOODLAND ANIMALS',): 729, ('JUMBO BAG VINTAGE DOILY ',): 737, (\"JUMBO BAG 50'S CHRISTMAS \",): 739, ('IVORY KITCHEN SCALES',): 741, ('STRAWBERRY CHARLOTTE BAG',): 742, ('DOORMAT KEEP CALM AND COME IN',): 742, ('COOK WITH WINE METAL SIGN ',): 745, ('LUNCH BOX I LOVE LONDON',): 750, ('RECYCLING BAG RETROSPOT ',): 760, ('ROUND SNACK BOXES SET OF4 WOODLAND ',): 764, ('HANGING HEART JAR T-LIGHT HOLDER',): 767, ('STRAWBERRY CERAMIC TRINKET BOX',): 770, ('RED HANGING HEART T-LIGHT HOLDER',): 773, ('GIN + TONIC DIET METAL SIGN',): 775, ('CHARLOTTE BAG PINK POLKADOT',): 777, ('LUNCH BAG ALPHABET DESIGN',): 780, ('GARDENERS KNEELING PAD CUP OF TEA ',): 780, ('CLOTHES PEGS RETROSPOT PACK 24 ',): 792, ('SCOTTIE DOG HOT WATER BOTTLE',): 798, ('HOME BUILDING BLOCK WORD',): 806, ('ALARM CLOCK BAKELIKE PINK',): 810, ('PAPER BUNTING RETROSPOT',): 812, ('HOT WATER BOTTLE KEEP CALM',): 813, ('PINK REGENCY TEACUP AND SAUCER', 'ROSES REGENCY TEACUP AND SAUCER '): 693, ('GREEN REGENCY TEACUP AND SAUCER', 'PINK REGENCY TEACUP AND SAUCER', 'ROSES REGENCY TEACUP AND SAUCER '): 1315, ('GREEN REGENCY TEACUP AND SAUCER', 'PINK REGENCY TEACUP AND SAUCER'): 905, ('GREEN REGENCY TEACUP AND SAUCER', 'GREEN REGENCY TEACUP AND SAUCER', 'PINK REGENCY TEACUP AND SAUCER'): 1336, ('PAPER CHAIN KIT VINTAGE CHRISTMAS',): 850, ('JUMBO BAG STRAWBERRY',): 850, ('WOODLAND CHARLOTTE BAG',): 858, ('POPCORN HOLDER',): 865, ('SET OF 6 SPICE TINS PANTRY DESIGN',): 870, ('60 TEATIME FAIRY CAKE CASES',): 871, ('RED TOADSTOOL LED NIGHT LIGHT',): 874, ('PLEASE ONE PERSON METAL SIGN',): 875, ('JUMBO BAG WOODLAND ANIMALS',): 878, ('DOLLY GIRL LUNCH BOX',): 881, ('JUMBO BAG PINK VINTAGE PAISLEY',): 885, ('CHOCOLATE HOT WATER BOTTLE',): 889, ('JUMBO BAG VINTAGE LEAF',): 895, ('PACK OF 60 PINK PAISLEY CAKE CASES',): 896, ('CHARLOTTE BAG SUKI DESIGN',): 911, ('SET OF 3 REGENCY CAKE TINS',): 919, ('SPACEBOY LUNCH BOX ',): 924, ('JUMBO BAG ALPHABET',): 930, ('SET/5 RED RETROSPOT LID GLASS BOWLS',): 936, ('GARDENERS KNEELING PAD KEEP CALM ',): 937, ('VINTAGE SNAP CARDS',): 944, ('JUMBO  BAG BAROQUE BLACK WHITE',): 960, ('HEART OF WICKER LARGE',): 961, ('REX CASH+CARRY JUMBO SHOPPER',): 967, ('BAKING SET 9 PIECE RETROSPOT ',): 974, ('6 RIBBONS RUSTIC CHARM',): 986, ('RETROSPOT TEA SET CERAMIC 11 PC ',): 988, ('WOODEN FRAME ANTIQUE WHITE ',): 999, ('JUMBO BAG APPLES',): 1009, ('SET/20 RED RETROSPOT PAPER NAPKINS ',): 1015, ('ALARM CLOCK BAKELIKE GREEN',): 1024, ('ALARM CLOCK BAKELIKE GREEN', 'ALARM CLOCK BAKELIKE RED '): 711, ('RABBIT NIGHT LIGHT',): 1051, ('LUNCH BAG WOODLAND',): 1061, ('RED RETROSPOT CHARLOTTE BAG',): 1068, ('VICTORIAN GLASS HANGING T-LIGHT',): 1072, ('LUNCH BAG APPLE DESIGN',): 1084, ('GREEN REGENCY TEACUP AND SAUCER',): 1085, ('GREEN REGENCY TEACUP AND SAUCER', 'ROSES REGENCY TEACUP AND SAUCER '): 861, ('ALARM CLOCK BAKELIKE RED ',): 1107, ('SET OF 4 PANTRY JELLY MOULDS',): 1111, ('WOODEN PICTURE FRAME WHITE FINISH',): 1129, ('LUNCH BAG PINK POLKADOT',): 1137, ('LUNCH BAG PINK POLKADOT', 'LUNCH BAG RED RETROSPOT'): 654, ('ROSES REGENCY TEACUP AND SAUCER ',): 1138, ('LUNCH BAG SUKI DESIGN ',): 1139, ('SPOTTY BUNTING',): 1172, ('RECIPE BOX PANTRY YELLOW DESIGN',): 1180, ('JAM MAKING SET PRINTED',): 1182, ('LUNCH BAG SPACEBOY DESIGN ',): 1192, ('LUNCH BAG CARS BLUE',): 1197, ('JUMBO SHOPPER VINTAGE RED PAISLEY',): 1202, ('JUMBO BAG RED RETROSPOT', 'JUMBO SHOPPER VINTAGE RED PAISLEY'): 697, (\"PAPER CHAIN KIT 50'S CHRISTMAS \",): 1210, ('JUMBO STORAGE BAG SUKI',): 1214, ('JUMBO BAG RED RETROSPOT', 'JUMBO STORAGE BAG SUKI'): 756, ('JAM MAKING SET WITH JARS',): 1229, ('HEART OF WICKER SMALL',): 1237, ('JUMBO BAG PINK POLKADOT',): 1251, ('JUMBO BAG PINK POLKADOT', 'JUMBO BAG RED RETROSPOT'): 871, ('POSTAGE',): 1252, ('NATURAL SLATE HEART CHALKBOARD ',): 1280, ('LUNCH BAG  BLACK SKULL.',): 1350, ('LUNCH BAG  BLACK SKULL.', 'LUNCH BAG RED RETROSPOT'): 705, ('PACK OF 72 RETROSPOT CAKE CASES',): 1385, ('nan',): 1454, ('SET OF 3 CAKE TINS PANTRY DESIGN ',): 1473, ('ASSORTED COLOUR BIRD ORNAMENT',): 1501, ('LUNCH BAG RED RETROSPOT',): 1638, ('PARTY BUNTING',): 1727, ('JUMBO BAG RED RETROSPOT',): 2159, ('REGENCY CAKESTAND 3 TIER',): 2200, ('WHITE HANGING HEART T-LIGHT HOLDER',): 2369}\n",
      "FP-Growth association rules:\n",
      "\n",
      "{('GREEN REGENCY TEACUP AND SAUCER',): (('ROSES REGENCY TEACUP AND SAUCER ',), 0.7935483870967742), ('ROSES REGENCY TEACUP AND SAUCER ',): (('GREEN REGENCY TEACUP AND SAUCER',), 0.7565905096660809), ('GREEN REGENCY TEACUP AND SAUCER', 'PINK REGENCY TEACUP AND SAUCER'): ((), 1.4762430939226519), ('GREEN REGENCY TEACUP AND SAUCER', 'ROSES REGENCY TEACUP AND SAUCER '): (('PINK REGENCY TEACUP AND SAUCER',), 1.5272938443670152), ('PINK REGENCY TEACUP AND SAUCER', 'ROSES REGENCY TEACUP AND SAUCER '): (('GREEN REGENCY TEACUP AND SAUCER',), 1.8975468975468976)}\n"
     ]
    }
   ],
   "source": [
    "# Example usage\n",
    "min_support = 0.025\n",
    "min_confidence = 0.7\n",
    "patterns_fpgrowth = run_fpgrowth(transactions, min_support)\n",
    "rules_fpgrowth =pyfpgrowth.generate_association_rules(patterns_fpgrowth,min_confidence)\n",
    "# Print results or perform further analysis\n",
    "print(\"FP-Growth frequent itemsets:\\n\")\n",
    "print(patterns_fpgrowth)\n",
    "print(\"FP-Growth association rules:\\n\")\n",
    "print(rules_fpgrowth)"
   ]
  },
  {
   "cell_type": "code",
   "execution_count": 14,
   "metadata": {},
   "outputs": [
    {
     "data": {
      "text/plain": [
       "5"
      ]
     },
     "execution_count": 14,
     "metadata": {},
     "output_type": "execute_result"
    }
   ],
   "source": [
    "len(rules_fpgrowth)"
   ]
  }
 ],
 "metadata": {
  "kernelspec": {
   "display_name": "Python 3",
   "language": "python",
   "name": "python3"
  },
  "language_info": {
   "codemirror_mode": {
    "name": "ipython",
    "version": 3
   },
   "file_extension": ".py",
   "mimetype": "text/x-python",
   "name": "python",
   "nbconvert_exporter": "python",
   "pygments_lexer": "ipython3",
   "version": "3.10.12"
  }
 },
 "nbformat": 4,
 "nbformat_minor": 2
}
