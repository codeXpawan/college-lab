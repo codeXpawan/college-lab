{
 "cells": [
  {
   "cell_type": "code",
   "execution_count": 1,
   "metadata": {},
   "outputs": [
    {
     "name": "stderr",
     "output_type": "stream",
     "text": [
      "/usr/lib/python3/dist-packages/scipy/__init__.py:146: UserWarning: A NumPy version >=1.17.3 and <1.25.0 is required for this version of SciPy (detected version 1.26.4\n",
      "  warnings.warn(f\"A NumPy version >={np_minversion} and <{np_maxversion}\"\n"
     ]
    }
   ],
   "source": [
    "import numpy as np\n",
    "import pandas as pd\n",
    "from mlxtend.frequent_patterns import apriori, association_rules\n",
    "from pyfpgrowth import find_frequent_patterns,generate_association_rules\n",
    "from mlxtend.preprocessing import TransactionEncoder"
   ]
  },
  {
   "cell_type": "code",
   "execution_count": 2,
   "metadata": {},
   "outputs": [],
   "source": [
    "data = {\n",
    "    'TID':['T100','T200','T300','T400','T500','T600','T700','T800','T900'],\n",
    "    'List of Items':[['I1','I2','I3'],\n",
    "                     ['I2','I4'],\n",
    "                     ['I2','I3'],\n",
    "                     ['I1','I2','I4'],\n",
    "                     ['I1','I3'],\n",
    "                     ['I2','I3'],\n",
    "                     ['I1','I3'],\n",
    "                     ['I1','I2','I3','I5'],\n",
    "                     ['I1','I2','I3']\n",
    "                     ]\n",
    "}"
   ]
  },
  {
   "cell_type": "code",
   "execution_count": 3,
   "metadata": {},
   "outputs": [],
   "source": [
    "df = pd.DataFrame(data=data)"
   ]
  },
  {
   "cell_type": "code",
   "execution_count": 4,
   "metadata": {},
   "outputs": [
    {
     "name": "stdout",
     "output_type": "stream",
     "text": [
      "<class 'pandas.core.frame.DataFrame'>\n",
      "RangeIndex: 9 entries, 0 to 8\n",
      "Data columns (total 2 columns):\n",
      " #   Column         Non-Null Count  Dtype \n",
      "---  ------         --------------  ----- \n",
      " 0   TID            9 non-null      object\n",
      " 1   List of Items  9 non-null      object\n",
      "dtypes: object(2)\n",
      "memory usage: 272.0+ bytes\n"
     ]
    }
   ],
   "source": [
    "df.info()"
   ]
  },
  {
   "cell_type": "code",
   "execution_count": 5,
   "metadata": {},
   "outputs": [],
   "source": [
    "te = TransactionEncoder()\n",
    "te_ary = te.fit(df['List of Items']).transform(df['List of Items'])\n",
    "df_onehot = pd.DataFrame(te_ary,columns=te.columns_)"
   ]
  },
  {
   "cell_type": "code",
   "execution_count": 6,
   "metadata": {},
   "outputs": [
    {
     "name": "stdout",
     "output_type": "stream",
     "text": [
      "    support      itemsets\n",
      "0  0.666667          (I1)\n",
      "1  0.777778          (I2)\n",
      "2  0.777778          (I3)\n",
      "3  0.222222          (I4)\n",
      "4  0.444444      (I1, I2)\n",
      "5  0.555556      (I3, I1)\n",
      "6  0.555556      (I3, I2)\n",
      "7  0.222222      (I4, I2)\n",
      "8  0.333333  (I3, I1, I2)\n"
     ]
    }
   ],
   "source": [
    "min_support = 0.2\n",
    "min_confidence = 0.7\n",
    "patterns_from_apriori = apriori(df_onehot,min_support,use_colnames=True)\n",
    "print(patterns_from_apriori)"
   ]
  },
  {
   "cell_type": "code",
   "execution_count": 7,
   "metadata": {},
   "outputs": [
    {
     "name": "stdout",
     "output_type": "stream",
     "text": [
      "  antecedents consequents  confidence\n",
      "0        (I3)        (I1)    0.714286\n",
      "1        (I1)        (I3)    0.833333\n",
      "2        (I3)        (I2)    0.714286\n",
      "3        (I2)        (I3)    0.714286\n",
      "4        (I4)        (I2)    1.000000\n",
      "5    (I1, I2)        (I3)    0.750000\n"
     ]
    }
   ],
   "source": [
    "rules_from_apriori = association_rules(patterns_from_apriori,min_threshold=min_confidence)\n",
    "print(rules_from_apriori[['antecedents','consequents','confidence']])"
   ]
  },
  {
   "cell_type": "code",
   "execution_count": 8,
   "metadata": {},
   "outputs": [
    {
     "name": "stdout",
     "output_type": "stream",
     "text": [
      "{('I1', 'I2'): 4,\n",
      " ('I1', 'I2', 'I3'): 3,\n",
      " ('I1', 'I3'): 5,\n",
      " ('I2',): 7,\n",
      " ('I2', 'I3'): 5,\n",
      " ('I2', 'I4'): 2,\n",
      " ('I3',): 7,\n",
      " ('I4',): 2}\n"
     ]
    }
   ],
   "source": [
    "import pprint\n",
    "min_support = 0.2\n",
    "min_confidence = 0.7\n",
    "transactions = df['List of Items'].tolist()\n",
    "patterns_from_fpgrowth = find_frequent_patterns(transactions,min_support*len(transactions))\n",
    "pprint.pprint(patterns_from_fpgrowth)"
   ]
  },
  {
   "cell_type": "code",
   "execution_count": 9,
   "metadata": {},
   "outputs": [
    {
     "name": "stdout",
     "output_type": "stream",
     "text": [
      "{('I1', 'I2'): (('I3',), 0.75),\n",
      " ('I2',): (('I3',), 0.7142857142857143),\n",
      " ('I3',): (('I2',), 0.7142857142857143),\n",
      " ('I4',): (('I2',), 1.0)}\n"
     ]
    }
   ],
   "source": [
    "rules_from_fpgrowth = generate_association_rules(patterns_from_fpgrowth,min_confidence)\n",
    "pprint.pprint(rules_from_fpgrowth)"
   ]
  },
  {
   "cell_type": "code",
   "execution_count": null,
   "metadata": {},
   "outputs": [],
   "source": []
  }
 ],
 "metadata": {
  "kernelspec": {
   "display_name": "venv",
   "language": "python",
   "name": "python3"
  },
  "language_info": {
   "codemirror_mode": {
    "name": "ipython",
    "version": 3
   },
   "file_extension": ".py",
   "mimetype": "text/x-python",
   "name": "python",
   "nbconvert_exporter": "python",
   "pygments_lexer": "ipython3",
   "version": "3.10.12"
  }
 },
 "nbformat": 4,
 "nbformat_minor": 2
}
