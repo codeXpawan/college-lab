{
 "cells": [
  {
   "cell_type": "code",
   "execution_count": 1,
   "metadata": {},
   "outputs": [
    {
     "name": "stderr",
     "output_type": "stream",
     "text": [
      "/usr/lib/python3/dist-packages/scipy/__init__.py:146: UserWarning: A NumPy version >=1.17.3 and <1.25.0 is required for this version of SciPy (detected version 1.26.4\n",
      "  warnings.warn(f\"A NumPy version >={np_minversion} and <{np_maxversion}\"\n"
     ]
    }
   ],
   "source": [
    "import numpy as np\n",
    "import pandas as pd\n",
    "from mlxtend.frequent_patterns import apriori, association_rules\n",
    "from pyfpgrowth import find_frequent_patterns,generate_association_rules\n",
    "from mlxtend.preprocessing import TransactionEncoder"
   ]
  },
  {
   "cell_type": "code",
   "execution_count": 2,
   "metadata": {},
   "outputs": [],
   "source": [
    "data = {\n",
    "    'TID':['T100','T200','T300','T400','T500','T600','T700','T800','T900'],\n",
    "    'List of Items':[['I1','I2','I3'],\n",
    "                     ['I2','I4'],\n",
    "                     ['I2','I3'],\n",
    "                     ['I1','I2','I4'],\n",
    "                     ['I1','I3'],\n",
    "                     ['I2','I3'],\n",
    "                     ['I1','I3'],\n",
    "                     ['I1','I2','I3','I5'],\n",
    "                     ['I1','I2','I3']\n",
    "                     ]\n",
    "}"
   ]
  },
  {
   "cell_type": "code",
   "execution_count": 3,
   "metadata": {},
   "outputs": [],
   "source": [
    "df = pd.DataFrame(data=data)"
   ]
  },
  {
   "cell_type": "code",
   "execution_count": 4,
   "metadata": {},
   "outputs": [
    {
     "data": {
      "text/html": [
       "<div>\n",
       "<style scoped>\n",
       "    .dataframe tbody tr th:only-of-type {\n",
       "        vertical-align: middle;\n",
       "    }\n",
       "\n",
       "    .dataframe tbody tr th {\n",
       "        vertical-align: top;\n",
       "    }\n",
       "\n",
       "    .dataframe thead th {\n",
       "        text-align: right;\n",
       "    }\n",
       "</style>\n",
       "<table border=\"1\" class=\"dataframe\">\n",
       "  <thead>\n",
       "    <tr style=\"text-align: right;\">\n",
       "      <th></th>\n",
       "      <th>TID</th>\n",
       "      <th>List of Items</th>\n",
       "    </tr>\n",
       "  </thead>\n",
       "  <tbody>\n",
       "    <tr>\n",
       "      <th>0</th>\n",
       "      <td>T100</td>\n",
       "      <td>[I1, I2, I3]</td>\n",
       "    </tr>\n",
       "    <tr>\n",
       "      <th>1</th>\n",
       "      <td>T200</td>\n",
       "      <td>[I2, I4]</td>\n",
       "    </tr>\n",
       "    <tr>\n",
       "      <th>2</th>\n",
       "      <td>T300</td>\n",
       "      <td>[I2, I3]</td>\n",
       "    </tr>\n",
       "    <tr>\n",
       "      <th>3</th>\n",
       "      <td>T400</td>\n",
       "      <td>[I1, I2, I4]</td>\n",
       "    </tr>\n",
       "    <tr>\n",
       "      <th>4</th>\n",
       "      <td>T500</td>\n",
       "      <td>[I1, I3]</td>\n",
       "    </tr>\n",
       "    <tr>\n",
       "      <th>5</th>\n",
       "      <td>T600</td>\n",
       "      <td>[I2, I3]</td>\n",
       "    </tr>\n",
       "    <tr>\n",
       "      <th>6</th>\n",
       "      <td>T700</td>\n",
       "      <td>[I1, I3]</td>\n",
       "    </tr>\n",
       "    <tr>\n",
       "      <th>7</th>\n",
       "      <td>T800</td>\n",
       "      <td>[I1, I2, I3, I5]</td>\n",
       "    </tr>\n",
       "    <tr>\n",
       "      <th>8</th>\n",
       "      <td>T900</td>\n",
       "      <td>[I1, I2, I3]</td>\n",
       "    </tr>\n",
       "  </tbody>\n",
       "</table>\n",
       "</div>"
      ],
      "text/plain": [
       "    TID     List of Items\n",
       "0  T100      [I1, I2, I3]\n",
       "1  T200          [I2, I4]\n",
       "2  T300          [I2, I3]\n",
       "3  T400      [I1, I2, I4]\n",
       "4  T500          [I1, I3]\n",
       "5  T600          [I2, I3]\n",
       "6  T700          [I1, I3]\n",
       "7  T800  [I1, I2, I3, I5]\n",
       "8  T900      [I1, I2, I3]"
      ]
     },
     "execution_count": 4,
     "metadata": {},
     "output_type": "execute_result"
    }
   ],
   "source": [
    "df.head(9)"
   ]
  },
  {
   "cell_type": "code",
   "execution_count": 7,
   "metadata": {},
   "outputs": [],
   "source": [
    "te = TransactionEncoder()\n",
    "te_ary = te.fit(df['List of Items']).transform(df['List of Items'])\n",
    "df_onehot = pd.DataFrame(te_ary,columns=te.columns_)"
   ]
  },
  {
   "cell_type": "code",
   "execution_count": 8,
   "metadata": {},
   "outputs": [
    {
     "name": "stdout",
     "output_type": "stream",
     "text": [
      "    support      itemsets\n",
      "0  0.666667          (I1)\n",
      "1  0.777778          (I2)\n",
      "2  0.777778          (I3)\n",
      "3  0.222222          (I4)\n",
      "4  0.444444      (I1, I2)\n",
      "5  0.555556      (I3, I1)\n",
      "6  0.555556      (I3, I2)\n",
      "7  0.222222      (I4, I2)\n",
      "8  0.333333  (I3, I1, I2)\n"
     ]
    }
   ],
   "source": [
    "min_support = 0.2\n",
    "min_confidence = 0.7\n",
    "patterns_from_apriori = apriori(df_onehot,min_support,use_colnames=True)\n",
    "print(patterns_from_apriori)"
   ]
  },
  {
   "cell_type": "code",
   "execution_count": 10,
   "metadata": {},
   "outputs": [
    {
     "name": "stdout",
     "output_type": "stream",
     "text": [
      "  antecedents consequents  confidence\n",
      "0        (I3)        (I1)    0.714286\n",
      "1        (I1)        (I3)    0.833333\n",
      "2        (I3)        (I2)    0.714286\n",
      "3        (I2)        (I3)    0.714286\n",
      "4        (I4)        (I2)    1.000000\n",
      "5    (I1, I2)        (I3)    0.750000\n"
     ]
    }
   ],
   "source": [
    "rules_from_apriori = association_rules(patterns_from_apriori,min_threshold=min_confidence)\n",
    "print(rules_from_apriori[['antecedents','consequents','confidence']])"
   ]
  },
  {
   "cell_type": "code",
   "execution_count": 17,
   "metadata": {},
   "outputs": [
    {
     "name": "stdout",
     "output_type": "stream",
     "text": [
      "{('I1', 'I2'): 4,\n",
      " ('I1', 'I2', 'I3'): 3,\n",
      " ('I1', 'I3'): 5,\n",
      " ('I2',): 7,\n",
      " ('I2', 'I3'): 5,\n",
      " ('I2', 'I4'): 2,\n",
      " ('I3',): 7,\n",
      " ('I4',): 2}\n"
     ]
    }
   ],
   "source": [
    "import pprint\n",
    "min_support = 0.2\n",
    "min_confidence = 0.7\n",
    "transactions = df['List of Items'].tolist()\n",
    "patterns_from_fpgrowth = find_frequent_patterns(transactions,min_support*len(transactions))\n",
    "pprint.pprint(patterns_from_fpgrowth)"
   ]
  },
  {
   "cell_type": "code",
   "execution_count": 18,
   "metadata": {},
   "outputs": [
    {
     "name": "stdout",
     "output_type": "stream",
     "text": [
      "{('I1', 'I2'): (('I3',), 0.75),\n",
      " ('I2',): (('I3',), 0.7142857142857143),\n",
      " ('I3',): (('I2',), 0.7142857142857143),\n",
      " ('I4',): (('I2',), 1.0)}\n"
     ]
    }
   ],
   "source": [
    "rules_from_fpgrowth = generate_association_rules(patterns_from_fpgrowth,min_confidence)\n",
    "pprint.pprint(rules_from_fpgrowth)"
   ]
  },
  {
   "cell_type": "code",
   "execution_count": null,
   "metadata": {},
   "outputs": [],
   "source": []
  }
 ],
 "metadata": {
  "kernelspec": {
   "display_name": "venv",
   "language": "python",
   "name": "python3"
  },
  "language_info": {
   "codemirror_mode": {
    "name": "ipython",
    "version": 3
   },
   "file_extension": ".py",
   "mimetype": "text/x-python",
   "name": "python",
   "nbconvert_exporter": "python",
   "pygments_lexer": "ipython3",
   "version": "3.10.12"
  }
 },
 "nbformat": 4,
 "nbformat_minor": 2
}
